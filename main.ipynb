{
 "cells": [
  {
   "cell_type": "markdown",
   "metadata": {},
   "source": [
    "### Import Required Python Module"
   ]
  },
  {
   "cell_type": "code",
   "execution_count": null,
   "metadata": {},
   "outputs": [],
   "source": [
    "import numpy\n",
    "import pandas as pd"
   ]
  },
  {
   "cell_type": "markdown",
   "metadata": {},
   "source": [
    "### Import Required My Module"
   ]
  },
  {
   "cell_type": "code",
   "execution_count": null,
   "metadata": {},
   "outputs": [],
   "source": [
    "# import Module\n",
    "import NumericalMethod as nm "
   ]
  },
  {
   "cell_type": "markdown",
   "metadata": {},
   "source": [
    "### Gauss-Seidle Part"
   ]
  },
  {
   "cell_type": "markdown",
   "metadata": {},
   "source": [
    "#### inisiasi nilai awal dan matrix"
   ]
  },
  {
   "cell_type": "code",
   "execution_count": null,
   "metadata": {},
   "outputs": [],
   "source": [
    "# menginisiasi nilai nilai yang diketahui\n",
    "A = numpy.array([\n",
    "    [3, 1, 1],\n",
    "    [1, 3, 1],\n",
    "    [1, 1, 4]\n",
    "], dtype=float)\n",
    "\n",
    "b = numpy.array([12.59, 18, 15.01], dtype=float)"
   ]
  },
  {
   "cell_type": "code",
   "execution_count": null,
   "metadata": {},
   "outputs": [],
   "source": [
    "# ubah x0 disini\n",
    "x0 = numpy.array([10, 10, 10], dtype=float)"
   ]
  },
  {
   "cell_type": "markdown",
   "metadata": {},
   "source": [
    "#### memanggil dan menggunakan model"
   ]
  },
  {
   "cell_type": "code",
   "execution_count": null,
   "metadata": {},
   "outputs": [],
   "source": [
    "GS_Model = nm.GaussSeidelMethod(Matrix=A, Res=b)"
   ]
  },
  {
   "cell_type": "code",
   "execution_count": null,
   "metadata": {},
   "outputs": [],
   "source": [
    "GS_Model.do(x=x0, itteration=30, tol=0.00001, disp=2) # ubah tingkat toleransi, iterasi dan x0"
   ]
  },
  {
   "cell_type": "code",
   "execution_count": null,
   "metadata": {},
   "outputs": [],
   "source": [
    "# nilai dari akar\n",
    "GS_Model.root[-1]"
   ]
  },
  {
   "cell_type": "markdown",
   "metadata": {},
   "source": [
    "#### menampilkan error dan akar"
   ]
  },
  {
   "cell_type": "code",
   "execution_count": null,
   "metadata": {},
   "outputs": [],
   "source": [
    "GS_Model.plot_error()"
   ]
  },
  {
   "cell_type": "code",
   "execution_count": null,
   "metadata": {},
   "outputs": [],
   "source": [
    "GS_Model.plot_root()"
   ]
  },
  {
   "cell_type": "code",
   "execution_count": null,
   "metadata": {},
   "outputs": [],
   "source": [
    "# data_error.to_csv(\"error-GS.csv\")\n",
    "# data_root.to_csv(\"root-GS.csv\")"
   ]
  },
  {
   "cell_type": "markdown",
   "metadata": {},
   "source": [
    "### Newton-Raphson and Secant Part"
   ]
  },
  {
   "cell_type": "markdown",
   "metadata": {},
   "source": [
    "#### inisiasi nilai awal dan matrix"
   ]
  },
  {
   "cell_type": "code",
   "execution_count": null,
   "metadata": {},
   "outputs": [],
   "source": [
    "def F(X):\n",
    "    f = f = numpy.array([\n",
    "        X[0]**2 - X[0]*X[1] + X[2] - 1.94, \n",
    "        2*X[0] + X[0]*X[2] - X[1] - 4.65, \n",
    "        numpy.sin(X[0]) + X[2] - X[1] - 2.10\n",
    "    ], dtype=float)\n",
    "    return f\n",
    "\n",
    "# J adalah jacobian matrix yang dibentuk dari fungsi F\n",
    "# X adalah kumpulan variable yang saling bebas\n",
    "\n",
    "def J(X):\n",
    "    j = numpy.array([\n",
    "        [2*X[0] - X[1], -X[0], 1],\n",
    "        [2 + X[2], -1, X[0]],\n",
    "        [numpy.cos(X[0]), -1, 1]\n",
    "    ], dtype=float)\n",
    "    return j"
   ]
  },
  {
   "cell_type": "code",
   "execution_count": null,
   "metadata": {},
   "outputs": [],
   "source": [
    "# Jacobi khusus untuk metode Secant nilai dari h dapat dubah \n",
    "def J_Secant(X, h=0.01):\n",
    "    j = numpy.array([\n",
    "        [2*X[0] - X[1] + h, -X[1], 1],\n",
    "        [2 + X[2], -1, X[0]],\n",
    "        [(numpy.sin(X[0]+h) - numpy.sin(X[0])) / h, -1, 1]\n",
    "    ], dtype=float)\n",
    "    return j"
   ]
  },
  {
   "cell_type": "code",
   "execution_count": null,
   "metadata": {},
   "outputs": [],
   "source": [
    "# ubah x0 disini\n",
    "initial_X = numpy.random.rand(3) - 0.5"
   ]
  },
  {
   "cell_type": "markdown",
   "metadata": {},
   "source": [
    "#### memanggil dan menggunakan model"
   ]
  },
  {
   "cell_type": "code",
   "execution_count": null,
   "metadata": {},
   "outputs": [],
   "source": [
    "# Model NR\n",
    "NR_Model = nm.NewontRaphson(Matrix_Jacobi=J, function=F)"
   ]
  },
  {
   "cell_type": "code",
   "execution_count": null,
   "metadata": {},
   "outputs": [],
   "source": [
    "# Model NR\n",
    "NR_Model.do(x=initial_X, tol=0.00001, disp=4, itteration=30) # ubah tingkat toleransi, iterasi dan x0"
   ]
  },
  {
   "cell_type": "code",
   "execution_count": null,
   "metadata": {},
   "outputs": [],
   "source": [
    "# menampilkan akar yang terakhir didapat\n",
    "NR_Model.root[-1]"
   ]
  },
  {
   "cell_type": "code",
   "execution_count": null,
   "metadata": {},
   "outputs": [],
   "source": [
    "# Model SC\n",
    "SC_Model = nm.SectonMethod(Matrix_Jacobi=J_Secant, function=F) # ubah tingkat toleransi, iterasi dan x0"
   ]
  },
  {
   "cell_type": "code",
   "execution_count": null,
   "metadata": {},
   "outputs": [],
   "source": [
    "# Model SC\n",
    "SC_Model.do(x=initial_X, tol=0.00001, disp=4, itteration=30)"
   ]
  },
  {
   "cell_type": "code",
   "execution_count": null,
   "metadata": {},
   "outputs": [],
   "source": [
    "# menampilkan akar yang terakhir didapat\n",
    "SC_Model.root[-1]"
   ]
  },
  {
   "cell_type": "markdown",
   "metadata": {},
   "source": [
    "#### menampilkan error dan akar"
   ]
  },
  {
   "cell_type": "code",
   "execution_count": null,
   "metadata": {},
   "outputs": [],
   "source": [
    "# NR model\n",
    "NR_Model.plot_root()"
   ]
  },
  {
   "cell_type": "code",
   "execution_count": null,
   "metadata": {},
   "outputs": [],
   "source": [
    "# NR model\n",
    "NR_Model.plot_error()"
   ]
  },
  {
   "cell_type": "code",
   "execution_count": null,
   "metadata": {},
   "outputs": [],
   "source": [
    "# SC model\n",
    "SC_Model.plot_root()"
   ]
  },
  {
   "cell_type": "code",
   "execution_count": null,
   "metadata": {},
   "outputs": [],
   "source": [
    "# SC model\n",
    "SC_Model.plot_error()"
   ]
  }
 ],
 "metadata": {
  "kernelspec": {
   "display_name": "env",
   "language": "python",
   "name": "python3"
  },
  "language_info": {
   "codemirror_mode": {
    "name": "ipython",
    "version": 3
   },
   "file_extension": ".py",
   "mimetype": "text/x-python",
   "name": "python",
   "nbconvert_exporter": "python",
   "pygments_lexer": "ipython3",
   "version": "3.11.4"
  },
  "orig_nbformat": 4
 },
 "nbformat": 4,
 "nbformat_minor": 2
}
